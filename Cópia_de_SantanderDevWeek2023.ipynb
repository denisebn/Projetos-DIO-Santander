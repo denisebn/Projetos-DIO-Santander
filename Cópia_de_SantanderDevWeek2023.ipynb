{
  "nbformat": 4,
  "nbformat_minor": 0,
  "metadata": {
    "colab": {
      "provenance": [],
      "include_colab_link": true
    },
    "kernelspec": {
      "name": "python3",
      "display_name": "Python 3"
    },
    "language_info": {
      "name": "python"
    }
  },
  "cells": [
    {
      "cell_type": "markdown",
      "metadata": {
        "id": "view-in-github",
        "colab_type": "text"
      },
      "source": [
        "<a href=\"https://colab.research.google.com/github/denisebn/Projetos-DIO-Santander/blob/main/C%C3%B3pia_de_SantanderDevWeek2023.ipynb\" target=\"_parent\"><img src=\"https://colab.research.google.com/assets/colab-badge.svg\" alt=\"Open In Colab\"/></a>"
      ]
    },
    {
      "cell_type": "markdown",
      "source": [
        "# Santander Dev Week 2023 (ETL com Python)"
      ],
      "metadata": {
        "id": "BPJQsTCULaC-"
      }
    },
    {
      "cell_type": "markdown",
      "source": [
        "**Contexto:** Você é um cientista de dados no Santander e recebeu a tarefa de envolver seus clientes de maneira mais personalizada. Seu objetivo é usar o poder da IA Generativa para criar mensagens de marketing personalizadas que serão entregues a cada cliente.\n",
        "\n",
        "**Condições do Problema:**\n",
        "\n",
        "1. Você recebeu uma planilha simples, em formato CSV ('SDW2023.csv'), com uma lista de IDs de usuário do banco:\n",
        "  ```\n",
        "  UserID\n",
        "  1\n",
        "  2\n",
        "  3\n",
        "  4\n",
        "  5\n",
        "  ```\n",
        "2. Seu trabalho é consumir o endpoint `GET https://sdw-2023-prd.up.railway.app/users/{id}` (API da Santander Dev Week 2023) para obter os dados de cada cliente.\n",
        "3. Depois de obter os dados dos clientes, você vai usar a API do ChatGPT (OpenAI) para gerar uma mensagem de marketing personalizada para cada cliente. Essa mensagem deve enfatizar a importância dos investimentos.\n",
        "4. Uma vez que a mensagem para cada cliente esteja pronta, você vai enviar essas informações de volta para a API, atualizando a lista de \"news\" de cada usuário usando o endpoint `PUT https://sdw-2023-prd.up.railway.app/users/{id}`.\n",
        "\n"
      ],
      "metadata": {
        "id": "k5fA5OrXt1a3"
      }
    },
    {
      "cell_type": "code",
      "source": [
        "# Utilize sua própria URL se quiser ;)\n",
        "# Repositório da API: https://github.com/digitalinnovationone/santander-dev-week-2023-api\n",
        "sdw2023_api_url = 'https://sdw-2023-prd.up.railway.app'"
      ],
      "metadata": {
        "id": "FKqLC_CWoYqR"
      },
      "execution_count": null,
      "outputs": []
    },
    {
      "cell_type": "markdown",
      "source": [
        "## **E**xtract\n",
        "\n",
        "Extraia a lista de IDs de usuário a partir do arquivo CSV. Para cada ID, faça uma requisição GET para obter os dados do usuário correspondente."
      ],
      "metadata": {
        "id": "9dfI-o7gLRq9"
      }
    },
    {
      "cell_type": "code",
      "execution_count": 107,
      "metadata": {
        "id": "NYydpX_GLRCB",
        "colab": {
          "base_uri": "https://localhost:8080/"
        },
        "outputId": "2c4bb70f-c812-40ab-f465-021422c23468"
      },
      "outputs": [
        {
          "output_type": "stream",
          "name": "stdout",
          "text": [
            "          Nome   Saldo\n",
            "UserId                \n",
            "51       Livia  1000.0\n",
            "23      Mateus  2500.0\n",
            "3          NaN     NaN\n",
            "7       Denise   500.0\n",
            "          Nome   Saldo\n",
            "UserId                \n",
            "51       Livia  1000.0\n",
            "23      Mateus  2500.0\n",
            "7       Denise   500.0\n",
            "[51, 23, 7]\n"
          ]
        }
      ],
      "source": [
        "from tables.index import Index\n",
        "from numpy.lib import index_tricks\n",
        "import pandas as pd\n",
        "import numpy as np\n",
        "\n",
        "df = pd.read_csv('projeto2.csv', header=0, index_col=0)\n",
        "print(df)\n",
        "\n",
        "df = df.dropna()\n",
        "print(df)\n",
        "\n",
        "user_ids = df.index.tolist()\n",
        "print(user_ids)"
      ]
    },
    {
      "cell_type": "code",
      "source": [
        "from numpy.core.fromnumeric import nonzero\n",
        "from numpy.core.multiarray import empty\n",
        "from os import remove\n",
        "import requests\n",
        "import json\n",
        "\n",
        "\n",
        "def get_username(id):\n",
        "  name = df.loc[id,'Nome']\n",
        "  return name\n",
        "\n",
        "def get_saldo(id):\n",
        "  valor = df.loc[id,'Saldo']\n",
        "  #print(valor)\n",
        "  return valor\n",
        "\n",
        "print(f'teste {get_username(7)}')\n",
        "\n",
        "user_name = get_username(user_ids)\n",
        "print(user_name)\n",
        "\n",
        "user_saldo = get_saldo(user_ids)\n",
        "print(user_saldo)\n",
        "\n",
        "#users = [user for id in user_ids if (user := get_user(id)) != 'None']\n",
        "#print(users)"
      ],
      "metadata": {
        "id": "F5XOuCZGSTGw",
        "colab": {
          "base_uri": "https://localhost:8080/"
        },
        "outputId": "5f3a90d0-eb17-4dc1-f74f-f4fed1d10ed5"
      },
      "execution_count": 119,
      "outputs": [
        {
          "output_type": "stream",
          "name": "stdout",
          "text": [
            "teste Denise\n",
            "UserId\n",
            "51     Livia\n",
            "23    Mateus\n",
            "7     Denise\n",
            "Name: Nome, dtype: object\n",
            "UserId\n",
            "51    1000.0\n",
            "23    2500.0\n",
            "7      500.0\n",
            "Name: Saldo, dtype: float64\n"
          ]
        }
      ]
    },
    {
      "cell_type": "markdown",
      "source": [
        "## **T**ransform\n",
        "\n",
        "Utilize a API do OpenAI GPT-4 para gerar uma mensagem de marketing personalizada para cada usuário."
      ],
      "metadata": {
        "id": "cWoqInB4TF1x"
      }
    },
    {
      "cell_type": "code",
      "source": [
        "_!pip install openai"
      ],
      "metadata": {
        "id": "O--PCAObTQkK"
      },
      "execution_count": null,
      "outputs": []
    },
    {
      "cell_type": "code",
      "source": [
        "# Documentação Oficial da API OpenAI: https://platform.openai.com/docs/api-reference/introduction\n",
        "# Informações sobre o Período Gratuito: https://help.openai.com/en/articles/4936830\n",
        "\n",
        "# Para gerar uma API Key:\n",
        "# 1. Crie uma conta na OpenAI\n",
        "# 2. Acesse a seção \"API Keys\"\n",
        "# 3. Clique em \"Create API Key\"\n",
        "# Link direto: https://platform.openai.com/account/api-keys\n"
      ],
      "metadata": {
        "id": "sUB1doiDTX3y"
      },
      "execution_count": null,
      "outputs": []
    },
    {
      "cell_type": "code",
      "source": [
        "\n",
        "def generate_news(id):\n",
        "  user_name_news = get_username(id)\n",
        "  users_saldo_news = get_saldo(id)\n",
        "  mensagem = f\"\"\"Oi {user_name_news}, seu saldo é de {users_saldo_news}\"\"\"\n",
        "  return mensagem\n",
        "\n",
        "newslist = []\n",
        "\n",
        "for id in user_ids:\n",
        "  news = generate_news(id)\n",
        "  newslist.append(news)\n",
        "  print(news)\n",
        "\n",
        "print(newslist)\n",
        "\n",
        "df['News'] = newslist\n",
        "\n",
        "print(df)"
      ],
      "metadata": {
        "id": "n1w78kNxTrZY",
        "colab": {
          "base_uri": "https://localhost:8080/"
        },
        "outputId": "a5c35b4c-35ab-43b5-ae84-7c76ed416583"
      },
      "execution_count": 120,
      "outputs": [
        {
          "output_type": "stream",
          "name": "stdout",
          "text": [
            "Oi Livia, seu saldo é de 1000.0\n",
            "Oi Mateus, seu saldo é de 2500.0\n",
            "Oi Denise, seu saldo é de 500.0\n",
            "['Oi Livia, seu saldo é de 1000.0', 'Oi Mateus, seu saldo é de 2500.0', 'Oi Denise, seu saldo é de 500.0']\n",
            "          Nome   Saldo                              News\n",
            "UserId                                                  \n",
            "51       Livia  1000.0   Oi Livia, seu saldo é de 1000.0\n",
            "23      Mateus  2500.0  Oi Mateus, seu saldo é de 2500.0\n",
            "7       Denise   500.0   Oi Denise, seu saldo é de 500.0\n"
          ]
        }
      ]
    },
    {
      "cell_type": "markdown",
      "source": [
        "## **L**oad\n",
        "\n",
        "Atualize a lista de \"news\" de cada usuário na API com a nova mensagem gerada."
      ],
      "metadata": {
        "id": "kNuP0SDUZMBY"
      }
    },
    {
      "cell_type": "code",
      "source": [
        "\n",
        "def update_user():\n",
        "  response = df.to_csv(\"projeto2_updated.csv\")\n",
        "  return\n",
        "\n",
        "update_user()\n",
        "dfnews = pd.read_csv('projeto2_updated.csv', header=0, index_col=0)\n",
        "print(dfnews)\n"
      ],
      "metadata": {
        "id": "YefWfYBoZMN2",
        "colab": {
          "base_uri": "https://localhost:8080/"
        },
        "outputId": "595f48be-72f1-4225-8ce8-8b2c568ce90c"
      },
      "execution_count": 121,
      "outputs": [
        {
          "output_type": "stream",
          "name": "stdout",
          "text": [
            "          Nome   Saldo                              News\n",
            "UserId                                                  \n",
            "51       Livia  1000.0   Oi Livia, seu saldo é de 1000.0\n",
            "23      Mateus  2500.0  Oi Mateus, seu saldo é de 2500.0\n",
            "7       Denise   500.0   Oi Denise, seu saldo é de 500.0\n"
          ]
        }
      ]
    }
  ]
}